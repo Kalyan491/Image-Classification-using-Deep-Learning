{
  "nbformat": 4,
  "nbformat_minor": 0,
  "metadata": {
    "colab": {
      "provenance": []
    },
    "kernelspec": {
      "name": "python3",
      "display_name": "Python 3"
    },
    "language_info": {
      "name": "python"
    },
    "gpuClass": "standard",
    "accelerator": "GPU"
  },
  "cells": [
    {
      "cell_type": "markdown",
      "source": [
        "### **IMPORTING LIBRARIES**"
      ],
      "metadata": {
        "id": "Y-FfqP7twuWH"
      }
    },
    {
      "cell_type": "code",
      "execution_count": 1,
      "metadata": {
        "colab": {
          "base_uri": "https://localhost:8080/"
        },
        "id": "_lUUvILon01k",
        "outputId": "b49072cf-945e-4442-ffd0-a13dba537bc6"
      },
      "outputs": [
        {
          "output_type": "stream",
          "name": "stdout",
          "text": [
            "Mounted at /content/drive\n",
            "Looking in indexes: https://pypi.org/simple, https://us-python.pkg.dev/colab-wheels/public/simple/\n",
            "Collecting split-folders\n",
            "  Downloading split_folders-0.5.1-py3-none-any.whl (8.4 kB)\n",
            "Installing collected packages: split-folders\n",
            "Successfully installed split-folders-0.5.1\n"
          ]
        }
      ],
      "source": [
        "#importing libraries\n",
        "from google.colab import drive\n",
        "drive.mount('/content/drive')\n",
        "import torch\n",
        "import warnings\n",
        "warnings.filterwarnings(\"ignore\")\n",
        "import torch.nn as nn\n",
        "import torchvision\n",
        "from torch.utils.data import DataLoader,Dataset\n",
        "from torchvision import datasets,transforms,models\n",
        "import torchvision.transforms as transforms\n",
        "from torch.autograd import Variable\n",
        "from PIL import Image\n",
        "from __future__ import print_function,division\n",
        "from torch.optim import lr_scheduler\n",
        "import torch.backends.cudnn as cudnn\n",
        "import numpy as np\n",
        "from torch import optim\n",
        "import time\n",
        "from torch.nn.modules.activation import ReLU\n",
        "import tqdm\n",
        "!pip install split-folders\n",
        "import splitfolders\n",
        "import os\n",
        "from sklearn import metrics\n",
        "import copy\n",
        "import matplotlib.pyplot as plt\n",
        "cudnn.benchmark=True\n",
        "plt.ion()"
      ]
    },
    {
      "cell_type": "code",
      "source": [
        "device=torch.device(\"cuda:0\" if torch.cuda.is_available() else \"cpu\") #setting device to GPU"
      ],
      "metadata": {
        "id": "AnEWbb6MoCCi"
      },
      "execution_count": 2,
      "outputs": []
    },
    {
      "cell_type": "markdown",
      "source": [
        "### **DATA PREPROCESSING**"
      ],
      "metadata": {
        "id": "gHOA8XY1wP0l"
      }
    },
    {
      "cell_type": "code",
      "source": [
        "data_transforms={'train':transforms.Compose([transforms.RandomResizedCrop(224)\n",
        ",transforms.RandomHorizontalFlip(),transforms.ToTensor(),transforms.Normalize([0.47949,0.4665, 0.4086],[0.2849, 0.2770, 0.2849])]),\n",
        "'val':transforms.Compose([transforms.Resize(256)\n",
        ",transforms.CenterCrop(224),transforms.ToTensor(),transforms.Normalize([0.47949, 0.4665, 0.4086],[0.2849, 0.2770, 0.2849])]),\n",
        "'test':transforms.Compose([transforms.Resize(256)\n",
        ",transforms.CenterCrop(224),transforms.ToTensor(),transforms.Normalize([0.47949, 0.4665, 0.4086],[0.28491, 0.2770, 0.2849])])\n",
        "}\n"
      ],
      "metadata": {
        "id": "unmNK9hroCEt"
      },
      "execution_count": 3,
      "outputs": []
    },
    {
      "cell_type": "markdown",
      "source": [
        "### **SPLITTING TRAINING DATA INTO TRAIN AND VALIDATION DATA(80/20 split)**"
      ],
      "metadata": {
        "id": "0VnCc_fOwKFB"
      }
    },
    {
      "cell_type": "code",
      "source": [
        "input_folder = '/content/drive/MyDrive/FT_1/assignment1_data/classification_dataset/train'\n",
        "output_folder = '/content/drive/MyDrive/FT_1/assignment1_data/classification_dataset/train_split'\n",
        "splitfolders.ratio(input_folder, output = output_folder, seed = 1337, ratio = (0.8, 0.2), group_prefix=None, move = False )"
      ],
      "metadata": {
        "colab": {
          "base_uri": "https://localhost:8080/"
        },
        "id": "CYqpgpdGE1cI",
        "outputId": "8501dac5-4f92-43f7-95f9-ad1d2eadf20d"
      },
      "execution_count": 4,
      "outputs": [
        {
          "output_type": "stream",
          "name": "stderr",
          "text": [
            "Copying files: 532 files [01:19,  6.67 files/s]\n"
          ]
        }
      ]
    },
    {
      "cell_type": "markdown",
      "source": [
        "### **LOADING TRAINING DATA USING DATA LOADER** "
      ],
      "metadata": {
        "id": "B1Y6QHPywXJd"
      }
    },
    {
      "cell_type": "code",
      "source": [
        "data_dir_full = '/content/drive/MyDrive/FT_1/assignment1_data/classification_dataset/'\n",
        "data_dir = '/content/drive/MyDrive/FT_1/assignment1_data/classification_dataset/train_split'\n",
        "\n",
        "image_datasets={x: datasets.ImageFolder(os.path.join(data_dir,x),data_transforms[x]) for x in ['train','val']}\n",
        "\n",
        "image_datasets['test']=datasets.ImageFolder(os.path.join(data_dir_full,'test'),data_transforms['test'])\n",
        "\n",
        "#loading data into data_loader in batches\n",
        "dataloaders={x: torch.utils.data.DataLoader(image_datasets[x], batch_size=4,shuffle=True,num_workers=4) for x in ['train','val','test']}\n",
        "\n",
        "dataset_sizes={x: len(image_datasets[x]) for x in ['train','val','test']}\n",
        "\n",
        "class_names=image_datasets['train'].classes\n",
        "\n",
        "print(dataset_sizes)\n",
        "\n",
        "print(class_names)"
      ],
      "metadata": {
        "colab": {
          "base_uri": "https://localhost:8080/"
        },
        "id": "uzFiYSvYoCGk",
        "outputId": "cb3aa434-8edd-447f-8b5c-ce19dfd15ed8"
      },
      "execution_count": 5,
      "outputs": [
        {
          "output_type": "stream",
          "name": "stdout",
          "text": [
            "{'train': 423, 'val': 109, 'test': 120}\n",
            "['bear', 'butterfly', 'camel', 'chimp', 'duck', 'elephant']\n"
          ]
        }
      ]
    },
    {
      "cell_type": "markdown",
      "source": [
        "###**Defining layers and parameters of CNN**"
      ],
      "metadata": {
        "id": "SQ1bOVGmv1yI"
      }
    },
    {
      "cell_type": "code",
      "source": [
        "class ConvNet(nn.Module):\n",
        "  def __init__(self,num_classes=6):\n",
        "    super (ConvNet,self).__init__()\n",
        "    #1st convolution layer with 16 outputs and relu activation function,max pooling \n",
        "    self.layer1=nn.Sequential(\n",
        "        nn.Conv2d(3,16,kernel_size=5,stride=1,padding=0),\n",
        "        nn.BatchNorm2d(16),\n",
        "        nn.ReLU(),\n",
        "        nn.MaxPool2d(kernel_size=2,stride=2)\n",
        "    )\n",
        "    #2nd convolution layer with 32 outputs and relu activation function,max pooling\n",
        "    self.layer2=nn.Sequential(\n",
        "        nn.Conv2d(16,32,kernel_size=5,stride=1,padding=0),\n",
        "        nn.BatchNorm2d(32),\n",
        "        nn.ReLU(),\n",
        "        nn.MaxPool2d(kernel_size=2,stride=2)\n",
        "    ) \n",
        "    self.layer3=nn.Sequential(\n",
        "        nn.Conv2d(32,64,kernel_size=5,stride=1,padding=0),\n",
        "        nn.BatchNorm2d(64),\n",
        "        nn.ReLU(),\n",
        "        nn.AdaptiveAvgPool2d(output_size = (1,1))\n",
        "    ) \n",
        "   \n",
        "    #linear fully connected layer\n",
        "    self.fc1=nn.Linear(64, num_classes)\n",
        "\n",
        "  def forward(self,x):\n",
        "    out=self.layer1(x)\n",
        "    out=self.layer2(out)\n",
        "    out=self.layer3(out)\n",
        "    out = out.reshape(out.size(0), -1)\n",
        "    out=self.fc1(out)\n",
        "    return out\n",
        "\n"
      ],
      "metadata": {
        "id": "ANRDE7skoCIb"
      },
      "execution_count": 6,
      "outputs": []
    },
    {
      "cell_type": "markdown",
      "source": [
        "###**Loading CNN model**\n"
      ],
      "metadata": {
        "id": "MAn-kuQivq2K"
      }
    },
    {
      "cell_type": "code",
      "source": [
        "model=ConvNet(6).to(device)\n",
        "model=model.to(device)\n",
        "criterion=nn.CrossEntropyLoss()  #using cross entropy loss\n",
        "optimizer_ft=optim.SGD(model.parameters(),lr=0.001,momentum=0.9)  #using Adam optimizer\n",
        "exp_lr_scheduler=lr_scheduler.StepLR(optimizer_ft,step_size=7,gamma=0.1)  #scheduler with 10% learning rate depreciation every 7 steps"
      ],
      "metadata": {
        "id": "tU2FkIDLtGnV"
      },
      "execution_count": 7,
      "outputs": []
    },
    {
      "cell_type": "markdown",
      "source": [],
      "metadata": {
        "id": "XYqmC88HwbTW"
      }
    },
    {
      "cell_type": "markdown",
      "source": [
        "###**TRAINING MODEL**"
      ],
      "metadata": {
        "id": "SJMKlU66wbli"
      }
    },
    {
      "cell_type": "code",
      "source": [
        "def train_model(model, criterion, optimizer, scheduler, num_epochs=25):\n",
        "    since = time.time()\n",
        "    accuracies=[]\n",
        "\n",
        "    best_model_wts = copy.deepcopy(model.state_dict())\n",
        "    best_acc = 0.0\n",
        "\n",
        "    train_accuracies=[]\n",
        "    val_accuracies=[]\n",
        "    test_accuracies=[]\n",
        "\n",
        "    for epoch in range(num_epochs):\n",
        "        print(f'Epoch {epoch}/{num_epochs - 1}')\n",
        "        print('-' * 10)\n",
        "\n",
        "        # Each epoch has a training and validation phase\n",
        "        for phase in ['train', 'val','test']:\n",
        "            if phase == 'train':\n",
        "                model.train()  # Set model to training mode\n",
        "            else:\n",
        "                model.eval()   # Set model to evaluate mode\n",
        "\n",
        "            running_loss = 0.0\n",
        "            running_corrects = 0\n",
        "\n",
        "            # Iterate over data.\n",
        "            for inputs, labels in dataloaders[phase]:\n",
        "                inputs = inputs.to(device)\n",
        "                labels = labels.to(device)\n",
        "\n",
        "                # zero the parameter gradients\n",
        "                optimizer.zero_grad()\n",
        "\n",
        "                # forward\n",
        "                # track history if only in train\n",
        "                with torch.set_grad_enabled(phase == 'train'):\n",
        "                    outputs = model(inputs)\n",
        "                    _, preds = torch.max(outputs, 1)\n",
        "                    loss = criterion(outputs, labels)\n",
        "\n",
        "                    # backward + optimize only if in training phase\n",
        "                    if phase == 'train':\n",
        "                        loss.backward()\n",
        "                        optimizer.step()\n",
        "\n",
        "                # statistics\n",
        "                if phase !='test':\n",
        "                  running_loss += loss.item() * inputs.size(0)\n",
        "                running_corrects += torch.sum(preds == labels.data)\n",
        "            if phase == 'train':\n",
        "                scheduler.step()\n",
        "\n",
        "            epoch_loss = running_loss / dataset_sizes[phase]\n",
        "            epoch_acc = running_corrects.double() / dataset_sizes[phase]\n",
        "            \n",
        "            if phase =='test':\n",
        "              print(f'{phase}  Acc: {epoch_acc:.4f}')\n",
        "            else:\n",
        "              print(f'{phase} Loss: {epoch_loss:.4f} Acc: {epoch_acc:.4f}')\n",
        "\n",
        "            # deep copy the model\n",
        "            if phase == 'val' and epoch_acc > best_acc:\n",
        "              best_acc = epoch_acc\n",
        "              best_model_wts = copy.deepcopy(model.state_dict())\n",
        " \n",
        "            #Accuracy for each epoch of respective phase\n",
        "            if phase == 'train':\n",
        "              train_accuracies.append(epoch_acc)\n",
        "            elif phase == 'val':\n",
        "              val_accuracies.append(epoch_acc)\n",
        "            elif phase == 'test':\n",
        "              test_accuracies.append(epoch_acc)\n",
        "            \n",
        "        print()\n",
        "\n",
        "    time_elapsed = time.time() - since\n",
        "    print(f'Training complete in {time_elapsed // 60:.0f}m {time_elapsed % 60:.0f}s')\n",
        "    print(f'Best val Acc: {best_acc:4f}')\n",
        "    \n",
        "    accuracies.append(train_accuracies)\n",
        "    accuracies.append(val_accuracies)\n",
        "    accuracies.append(test_accuracies)\n",
        "    \n",
        "    # load best model weights\n",
        "    model.load_state_dict(best_model_wts)\n",
        "    return model,accuracies"
      ],
      "metadata": {
        "id": "KLdL1RguoCKE"
      },
      "execution_count": 8,
      "outputs": []
    },
    {
      "cell_type": "code",
      "source": [
        "model,accuracies=train_model(model,criterion,optimizer_ft,exp_lr_scheduler,num_epochs=30) #training the final model"
      ],
      "metadata": {
        "colab": {
          "base_uri": "https://localhost:8080/"
        },
        "id": "d_8cx6u_oCMB",
        "outputId": "51923cce-c77a-4355-ab35-4b8b874a0e21"
      },
      "execution_count": 9,
      "outputs": [
        {
          "output_type": "stream",
          "name": "stdout",
          "text": [
            "Epoch 0/29\n",
            "----------\n",
            "train Loss: 1.7902 Acc: 0.2080\n",
            "val Loss: 1.6148 Acc: 0.3303\n",
            "test  Acc: 0.3250\n",
            "\n",
            "Epoch 1/29\n",
            "----------\n",
            "train Loss: 1.7183 Acc: 0.2955\n",
            "val Loss: 1.5912 Acc: 0.3211\n",
            "test  Acc: 0.3583\n",
            "\n",
            "Epoch 2/29\n",
            "----------\n",
            "train Loss: 1.7016 Acc: 0.3144\n",
            "val Loss: 1.5311 Acc: 0.3670\n",
            "test  Acc: 0.4500\n",
            "\n",
            "Epoch 3/29\n",
            "----------\n",
            "train Loss: 1.6806 Acc: 0.3144\n",
            "val Loss: 1.5459 Acc: 0.3578\n",
            "test  Acc: 0.3667\n",
            "\n",
            "Epoch 4/29\n",
            "----------\n",
            "train Loss: 1.6614 Acc: 0.2979\n",
            "val Loss: 1.5613 Acc: 0.3670\n",
            "test  Acc: 0.3417\n",
            "\n",
            "Epoch 5/29\n",
            "----------\n",
            "train Loss: 1.7236 Acc: 0.3073\n",
            "val Loss: 1.4888 Acc: 0.3853\n",
            "test  Acc: 0.4250\n",
            "\n",
            "Epoch 6/29\n",
            "----------\n",
            "train Loss: 1.6844 Acc: 0.2837\n",
            "val Loss: 1.5232 Acc: 0.3945\n",
            "test  Acc: 0.4417\n",
            "\n",
            "Epoch 7/29\n",
            "----------\n",
            "train Loss: 1.6369 Acc: 0.3191\n",
            "val Loss: 1.4927 Acc: 0.4037\n",
            "test  Acc: 0.4500\n",
            "\n",
            "Epoch 8/29\n",
            "----------\n",
            "train Loss: 1.6231 Acc: 0.3310\n",
            "val Loss: 1.4894 Acc: 0.4037\n",
            "test  Acc: 0.4583\n",
            "\n",
            "Epoch 9/29\n",
            "----------\n",
            "train Loss: 1.6426 Acc: 0.3499\n",
            "val Loss: 1.4848 Acc: 0.4037\n",
            "test  Acc: 0.4583\n",
            "\n",
            "Epoch 10/29\n",
            "----------\n",
            "train Loss: 1.6397 Acc: 0.3310\n",
            "val Loss: 1.4714 Acc: 0.3853\n",
            "test  Acc: 0.4583\n",
            "\n",
            "Epoch 11/29\n",
            "----------\n",
            "train Loss: 1.6306 Acc: 0.3499\n",
            "val Loss: 1.4638 Acc: 0.4037\n",
            "test  Acc: 0.4667\n",
            "\n",
            "Epoch 12/29\n",
            "----------\n",
            "train Loss: 1.6480 Acc: 0.3191\n",
            "val Loss: 1.4589 Acc: 0.3486\n",
            "test  Acc: 0.4000\n",
            "\n",
            "Epoch 13/29\n",
            "----------\n",
            "train Loss: 1.6290 Acc: 0.3499\n",
            "val Loss: 1.4709 Acc: 0.4037\n",
            "test  Acc: 0.4667\n",
            "\n",
            "Epoch 14/29\n",
            "----------\n",
            "train Loss: 1.6220 Acc: 0.3593\n",
            "val Loss: 1.4827 Acc: 0.3761\n",
            "test  Acc: 0.4500\n",
            "\n",
            "Epoch 15/29\n",
            "----------\n",
            "train Loss: 1.5923 Acc: 0.3759\n",
            "val Loss: 1.4873 Acc: 0.3761\n",
            "test  Acc: 0.4500\n",
            "\n",
            "Epoch 16/29\n",
            "----------\n",
            "train Loss: 1.6254 Acc: 0.3452\n",
            "val Loss: 1.4671 Acc: 0.3670\n",
            "test  Acc: 0.4583\n",
            "\n",
            "Epoch 17/29\n",
            "----------\n",
            "train Loss: 1.6068 Acc: 0.3735\n",
            "val Loss: 1.4724 Acc: 0.4037\n",
            "test  Acc: 0.4417\n",
            "\n",
            "Epoch 18/29\n",
            "----------\n",
            "train Loss: 1.6158 Acc: 0.3759\n",
            "val Loss: 1.4747 Acc: 0.4220\n",
            "test  Acc: 0.4583\n",
            "\n",
            "Epoch 19/29\n",
            "----------\n",
            "train Loss: 1.6172 Acc: 0.3475\n",
            "val Loss: 1.4767 Acc: 0.3853\n",
            "test  Acc: 0.4667\n",
            "\n",
            "Epoch 20/29\n",
            "----------\n",
            "train Loss: 1.6070 Acc: 0.3522\n",
            "val Loss: 1.4698 Acc: 0.4128\n",
            "test  Acc: 0.4500\n",
            "\n",
            "Epoch 21/29\n",
            "----------\n",
            "train Loss: 1.6335 Acc: 0.3475\n",
            "val Loss: 1.4703 Acc: 0.3853\n",
            "test  Acc: 0.4500\n",
            "\n",
            "Epoch 22/29\n",
            "----------\n",
            "train Loss: 1.5967 Acc: 0.3664\n",
            "val Loss: 1.4688 Acc: 0.4037\n",
            "test  Acc: 0.4583\n",
            "\n",
            "Epoch 23/29\n",
            "----------\n",
            "train Loss: 1.6234 Acc: 0.3499\n",
            "val Loss: 1.4789 Acc: 0.4037\n",
            "test  Acc: 0.4417\n",
            "\n",
            "Epoch 24/29\n",
            "----------\n",
            "train Loss: 1.6161 Acc: 0.3452\n",
            "val Loss: 1.4830 Acc: 0.3670\n",
            "test  Acc: 0.4750\n",
            "\n",
            "Epoch 25/29\n",
            "----------\n",
            "train Loss: 1.5980 Acc: 0.3499\n",
            "val Loss: 1.4797 Acc: 0.4128\n",
            "test  Acc: 0.4500\n",
            "\n",
            "Epoch 26/29\n",
            "----------\n",
            "train Loss: 1.6196 Acc: 0.3546\n",
            "val Loss: 1.4828 Acc: 0.3761\n",
            "test  Acc: 0.4750\n",
            "\n",
            "Epoch 27/29\n",
            "----------\n",
            "train Loss: 1.6170 Acc: 0.3191\n",
            "val Loss: 1.4794 Acc: 0.4128\n",
            "test  Acc: 0.4583\n",
            "\n",
            "Epoch 28/29\n",
            "----------\n",
            "train Loss: 1.6021 Acc: 0.3617\n",
            "val Loss: 1.4711 Acc: 0.3945\n",
            "test  Acc: 0.4667\n",
            "\n",
            "Epoch 29/29\n",
            "----------\n",
            "train Loss: 1.5833 Acc: 0.3735\n",
            "val Loss: 1.4689 Acc: 0.3853\n",
            "test  Acc: 0.4667\n",
            "\n",
            "Training complete in 3m 14s\n",
            "Best val Acc: 0.422018\n"
          ]
        }
      ]
    },
    {
      "cell_type": "markdown",
      "source": [
        "###**PLOTTING ACCURACIES VS EPOCHS**"
      ],
      "metadata": {
        "id": "GajRjDSPuy1-"
      }
    },
    {
      "cell_type": "code",
      "source": [
        "accuracies=torch.tensor(accuracies,device='cpu').numpy()\n",
        "fig = plt.figure(figsize=(14,10))\n",
        "for i in accuracies:\n",
        "  plt.plot(i*100)\n",
        "  plt.legend(['train accuracy','val accuracy','test accuracy'])\n",
        "  plt.xlabel('Epoch')\n",
        "  plt.ylabel('Accuracy')\n",
        "  plt.title(\"Train,Val,Test accuracies vs Epochs\")\n",
        "  plt.savefig('NN_accuracy-vs-epoch')"
      ],
      "metadata": {
        "colab": {
          "base_uri": "https://localhost:8080/",
          "height": 621
        },
        "id": "biVTFV36q39U",
        "outputId": "77087941-a13a-455e-d515-c7a4103fa060"
      },
      "execution_count": 10,
      "outputs": [
        {
          "output_type": "display_data",
          "data": {
            "text/plain": [
              "<Figure size 1008x720 with 1 Axes>"
            ],
            "image/png": "[encoded data removed]"
          },
          "metadata": {
            "needs_background": "light"
          }
        }
      ]
    },
    {
      "cell_type": "markdown",
      "source": [
        "### **LOADING TEST DATA**"
      ],
      "metadata": {
        "id": "evn5EeY9upPb"
      }
    },
    {
      "cell_type": "code",
      "source": [
        "data_dir_1 = '/content/drive/MyDrive/FT_1/assignment1_data/classification_dataset/'\n",
        "image_datasets={x: datasets.ImageFolder(os.path.join(data_dir_1,x),data_transforms[x]) for x in ['test']}\n",
        "dataloaders_test={x: torch.utils.data.DataLoader(image_datasets[x], batch_size=120,shuffle=False,num_workers=2) for x in ['test']}"
      ],
      "metadata": {
        "id": "kd9vW3a6E-aO"
      },
      "execution_count": 11,
      "outputs": []
    },
    {
      "cell_type": "markdown",
      "source": [
        "### **CALCULATING TEST ACCURACY**"
      ],
      "metadata": {
        "id": "5if-z0BnurbP"
      }
    },
    {
      "cell_type": "code",
      "source": [
        "def test_model(dataloaders_test,model):\n",
        "  correct_count=0\n",
        "  images_so_far = 0\n",
        "  y_true=[]\n",
        "  y_pred=[]\n",
        "  fig = plt.figure(figsize=(15, 15))\n",
        "  for i, (inputs, labels) in enumerate(dataloaders_test['test']):\n",
        "    inputs = inputs.to(device)\n",
        "    labels = labels.to(device)\n",
        "    outputs = model(inputs)\n",
        "    _, preds = torch.max(outputs, 1)\n",
        "    for j in range(inputs.size()[0]):\n",
        "      images_so_far += 1\n",
        "      y_true.append(class_names[labels[j]])\n",
        "      y_pred.append(class_names[preds[j]])  \n",
        "      if(class_names[labels[j]]==class_names[preds[j]]):\n",
        "        correct_count+=1\n",
        "  print(\"Accuracy: \")\n",
        "  print(correct_count/images_so_far)\n",
        "  print(\"----------------------------\")\n",
        "  print(\"Classification Report:\")\n",
        "  report=metrics.classification_report(y_true, y_pred)\n",
        "  print(report)\n",
        "  print(\"----------------------------\")\n",
        "  print(\"Confusion Matrix:\")\n",
        "  cf_matrix=metrics.confusion_matrix(y_true, y_pred)\n",
        "  print(cf_matrix)"
      ],
      "metadata": {
        "id": "zf9VPdxXE-jp"
      },
      "execution_count": 12,
      "outputs": []
    },
    {
      "cell_type": "code",
      "source": [
        "test_model(dataloaders_test,model)"
      ],
      "metadata": {
        "colab": {
          "base_uri": "https://localhost:8080/",
          "height": 481
        },
        "id": "Kj1YZRGzx7xR",
        "outputId": "814251bc-2095-4e57-80a6-50811f7dea9e"
      },
      "execution_count": 13,
      "outputs": [
        {
          "output_type": "stream",
          "name": "stdout",
          "text": [
            "Accuracy: \n",
            "0.4583333333333333\n",
            "----------------------------\n",
            "Classification Report:\n",
            "              precision    recall  f1-score   support\n",
            "\n",
            "        bear       0.33      0.10      0.15        20\n",
            "   butterfly       0.54      0.70      0.61        20\n",
            "       camel       0.44      0.80      0.57        20\n",
            "       chimp       0.58      0.55      0.56        20\n",
            "        duck       0.50      0.20      0.29        20\n",
            "    elephant       0.32      0.40      0.36        20\n",
            "\n",
            "    accuracy                           0.46       120\n",
            "   macro avg       0.45      0.46      0.42       120\n",
            "weighted avg       0.45      0.46      0.42       120\n",
            "\n",
            "----------------------------\n",
            "Confusion Matrix:\n",
            "[[ 2  3  6  2  1  6]\n",
            " [ 0 14  2  1  1  2]\n",
            " [ 1  2 16  0  0  1]\n",
            " [ 1  3  0 11  0  5]\n",
            " [ 1  4  6  2  4  3]\n",
            " [ 1  0  6  3  2  8]]\n"
          ]
        },
        {
          "output_type": "display_data",
          "data": {
            "text/plain": [
              "<Figure size 1080x1080 with 0 Axes>"
            ]
          },
          "metadata": {}
        }
      ]
    }
  ]
}